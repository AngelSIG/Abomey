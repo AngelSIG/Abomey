{
  "cells": [
    {
      "cell_type": "markdown",
      "metadata": {
        "id": "RPBC1Q50TLGl"
      },
      "source": [
        "# Wetland Mapping with GeoAI\n",
        "\n",
        "[![image](https://colab.research.google.com/assets/colab-badge.svg)](https://colab.research.google.com/github/opengeos/geoai/blob/main/docs/examples/wetland_dynamics.ipynb)"
      ]
    },
    {
      "cell_type": "markdown",
      "metadata": {
        "id": "PI_GrUcxTLGs"
      },
      "source": [
        "## Install packages"
      ]
    },
    {
      "cell_type": "code",
      "execution_count": null,
      "metadata": {
        "id": "-uYWw3_ETLGt"
      },
      "outputs": [],
      "source": [
        "# %pip install geoai-py"
      ]
    },
    {
      "cell_type": "markdown",
      "metadata": {
        "id": "w3WikFKeTLGw"
      },
      "source": [
        "## Import libraries"
      ]
    },
    {
      "cell_type": "code",
      "execution_count": null,
      "metadata": {
        "id": "J0Qhiu6gTLGx"
      },
      "outputs": [],
      "source": [
        "import geoai\n",
        "import leafmap"
      ]
    },
    {
      "cell_type": "markdown",
      "metadata": {
        "id": "rWWyURMQTLGy"
      },
      "source": [
        "## Create an interactive map"
      ]
    },
    {
      "cell_type": "code",
      "execution_count": null,
      "metadata": {
        "id": "iCH5cJu-TLGz"
      },
      "outputs": [],
      "source": [
        "m = geoai.Map(center=[47.229011, -99.878662], zoom=13)\n",
        "m.add_basemap(\"Esri.WorldImagery\")\n",
        "m"
      ]
    },
    {
      "cell_type": "markdown",
      "metadata": {
        "id": "sz-qdiglTLG0"
      },
      "source": [
        "## Draw an area of interest"
      ]
    },
    {
      "cell_type": "code",
      "execution_count": null,
      "metadata": {
        "id": "KqPDg4vJTLG1"
      },
      "outputs": [],
      "source": [
        "if m.user_roi is not None:\n",
        "    bbox = m.user_roi_bounds()\n",
        "else:\n",
        "    bbox = [-99.9057, 47.2143, -99.8686, 47.2419]"
      ]
    },
    {
      "cell_type": "markdown",
      "metadata": {
        "id": "2_PZY1HBTLG1"
      },
      "source": [
        "## Get the year of NWI data"
      ]
    },
    {
      "cell_type": "code",
      "execution_count": null,
      "metadata": {
        "id": "O_ebIx3-TLG2"
      },
      "outputs": [],
      "source": [
        "nwi_year = leafmap.get_nwi_year(bbox=bbox, return_geometry=False)[0]\n",
        "nwi_year"
      ]
    },
    {
      "cell_type": "code",
      "execution_count": null,
      "metadata": {
        "id": "d9ZO2y03TLG2"
      },
      "outputs": [],
      "source": [
        "nwi_year_geom = leafmap.get_nwi_year(bbox=bbox)\n",
        "nwi_year_geom"
      ]
    },
    {
      "cell_type": "code",
      "execution_count": null,
      "metadata": {
        "id": "s4EEriAtTLG2"
      },
      "outputs": [],
      "source": [
        "m.add_gdf(nwi_year_geom, layer_name=\"NWI Year\")"
      ]
    },
    {
      "cell_type": "markdown",
      "metadata": {
        "id": "PQnih--8TLG3"
      },
      "source": [
        "## Search for NAIP images for the corresponding NWI year"
      ]
    },
    {
      "cell_type": "code",
      "execution_count": null,
      "metadata": {
        "id": "jiITL6rcTLG3"
      },
      "outputs": [],
      "source": [
        "items = geoai.pc_stac_search(\n",
        "    collection=\"naip\",\n",
        "    bbox=bbox,\n",
        "    time_range=f\"{nwi_year}-01-01/{nwi_year}-12-30\",\n",
        ")\n",
        "items"
      ]
    },
    {
      "cell_type": "markdown",
      "metadata": {
        "id": "xd00xSU-TLG3"
      },
      "source": [
        "## Visualize NAIP images"
      ]
    },
    {
      "cell_type": "code",
      "execution_count": null,
      "metadata": {
        "id": "R2tJJ6WPTLG4"
      },
      "outputs": [],
      "source": [
        "geoai.view_pc_items(items=items)"
      ]
    },
    {
      "cell_type": "markdown",
      "metadata": {
        "id": "TeVLN483TLG4"
      },
      "source": [
        "## Download NAIP images"
      ]
    },
    {
      "cell_type": "code",
      "execution_count": null,
      "metadata": {
        "id": "id19SjFfTLG4"
      },
      "outputs": [],
      "source": [
        "images = geoai.pc_stac_download(items, output_dir=\"naip\", assets=[\"image\"])\n",
        "images"
      ]
    },
    {
      "cell_type": "code",
      "execution_count": null,
      "metadata": {
        "id": "ufKwhDjxTLG5"
      },
      "outputs": [],
      "source": [
        "first_image = list(images.values())[0][\"image\"]\n",
        "first_image"
      ]
    },
    {
      "cell_type": "code",
      "execution_count": null,
      "metadata": {
        "id": "TW7IF_v0TLG5"
      },
      "outputs": [],
      "source": [
        "second_image = list(images.values())[1][\"image\"]\n",
        "second_image"
      ]
    },
    {
      "cell_type": "markdown",
      "metadata": {
        "id": "oOR2r3hbTLG5"
      },
      "source": [
        "## Download NWI data"
      ]
    },
    {
      "cell_type": "code",
      "execution_count": null,
      "metadata": {
        "id": "CeBkxRV3TLG5"
      },
      "outputs": [],
      "source": [
        "image_bbox = leafmap.image_bbox(first_image, to_crs=\"EPSG:4326\")\n",
        "image_bbox"
      ]
    },
    {
      "cell_type": "code",
      "execution_count": null,
      "metadata": {
        "id": "bUp5nkJuTLG5"
      },
      "outputs": [],
      "source": [
        "nwi_gdf = leafmap.get_nwi(\n",
        "    geometry=image_bbox, clip=True, add_class=True, output=\"wetlands.geojson\"\n",
        ")\n",
        "nwi_gdf"
      ]
    },
    {
      "cell_type": "code",
      "execution_count": null,
      "metadata": {
        "id": "cw74QF14TLG6"
      },
      "outputs": [],
      "source": [
        "wetlands_classes = nwi_gdf[\"WETLAND_TY\"].unique()\n",
        "wetlands_classes"
      ]
    },
    {
      "cell_type": "code",
      "execution_count": null,
      "metadata": {
        "id": "ypS3u31ETLG6"
      },
      "outputs": [],
      "source": [
        "num_classes = len(wetlands_classes) + 1\n",
        "num_classes"
      ]
    },
    {
      "cell_type": "markdown",
      "metadata": {
        "id": "coKaY1q5TLG6"
      },
      "source": [
        "## Visualize NWI data"
      ]
    },
    {
      "cell_type": "code",
      "execution_count": null,
      "metadata": {
        "id": "BHcufYJ3TLG6"
      },
      "outputs": [],
      "source": [
        "m.remove_layer(m.layers[-1])\n",
        "m.add_raster(first_image, layer_name=\"NAIP\")\n",
        "m.add_nwi(nwi_gdf, layer_name=\"NWI\")\n",
        "m"
      ]
    },
    {
      "cell_type": "markdown",
      "metadata": {
        "id": "B8hE5eWZTLG7"
      },
      "source": [
        "## Select training and test images"
      ]
    },
    {
      "cell_type": "code",
      "execution_count": null,
      "metadata": {
        "id": "xB1bj8_jTLG7"
      },
      "outputs": [],
      "source": [
        "train_raster_path = first_image\n",
        "test_raster_path = second_image\n",
        "train_vector_path = \"wetlands.geojson\""
      ]
    },
    {
      "cell_type": "code",
      "execution_count": null,
      "metadata": {
        "id": "9r7unMdvTLG7"
      },
      "outputs": [],
      "source": [
        "geoai.view_vector_interactive(\n",
        "    train_vector_path, column=\"WETLAND_TY\", tiles=train_raster_path\n",
        ")"
      ]
    },
    {
      "cell_type": "markdown",
      "metadata": {
        "id": "KpLCYHirTLG7"
      },
      "source": [
        "## Create image chips for training"
      ]
    },
    {
      "cell_type": "code",
      "execution_count": null,
      "metadata": {
        "id": "TK1VY9UDTLG7"
      },
      "outputs": [],
      "source": [
        "out_folder = \"output\""
      ]
    },
    {
      "cell_type": "code",
      "execution_count": null,
      "metadata": {
        "id": "UkjfFG5GTLG8"
      },
      "outputs": [],
      "source": [
        "tiles = geoai.export_geotiff_tiles(\n",
        "    in_raster=train_raster_path,\n",
        "    out_folder=out_folder,\n",
        "    in_class_data=train_vector_path,\n",
        "    tile_size=1024,\n",
        "    stride=256,\n",
        "    buffer_radius=0,\n",
        ")"
      ]
    },
    {
      "cell_type": "markdown",
      "metadata": {
        "id": "0vSoNcaGTLG8"
      },
      "source": [
        "## Train a segmentation model"
      ]
    },
    {
      "cell_type": "code",
      "execution_count": null,
      "metadata": {
        "id": "9Izlf7rPTLG8"
      },
      "outputs": [],
      "source": [
        "# Train U-Net model\n",
        "geoai.train_segmentation_model(\n",
        "    images_dir=f\"{out_folder}/images\",\n",
        "    labels_dir=f\"{out_folder}/labels\",\n",
        "    output_dir=f\"{out_folder}/unet_models\",\n",
        "    architecture=\"unet\",\n",
        "    encoder_name=\"resnet34\",\n",
        "    encoder_weights=\"imagenet\",\n",
        "    num_channels=4,\n",
        "    num_classes=num_classes,  # background and wetlands classes\n",
        "    batch_size=8,\n",
        "    num_epochs=50,\n",
        "    learning_rate=0.001,\n",
        "    val_split=0.2,\n",
        "    verbose=True,\n",
        ")"
      ]
    },
    {
      "cell_type": "markdown",
      "metadata": {
        "id": "4Zb7oZ9mTLG8"
      },
      "source": [
        "## Evaluate the model"
      ]
    },
    {
      "cell_type": "code",
      "execution_count": null,
      "metadata": {
        "id": "LRPrBtYNTLG9"
      },
      "outputs": [],
      "source": [
        "geoai.plot_performance_metrics(\n",
        "    history_path=f\"{out_folder}/unet_models/training_history.pth\",\n",
        "    figsize=(15, 5),\n",
        "    verbose=True,\n",
        ")"
      ]
    },
    {
      "cell_type": "markdown",
      "metadata": {
        "id": "KHrgkY8bTLG9"
      },
      "source": [
        "## Run inference on a single image"
      ]
    },
    {
      "cell_type": "code",
      "execution_count": null,
      "metadata": {
        "id": "D1nHVCZJTLHY"
      },
      "outputs": [],
      "source": [
        "# Define paths\n",
        "masks_path = second_image.replace(\"naip\", \"prediction\")\n",
        "model_path = f\"{out_folder}/unet_models/best_model.pth\""
      ]
    },
    {
      "cell_type": "code",
      "execution_count": null,
      "metadata": {
        "id": "ZAYsXYGDTLHZ"
      },
      "outputs": [],
      "source": [
        "geoai.semantic_segmentation(\n",
        "    input_path=test_raster_path,\n",
        "    output_path=masks_path,\n",
        "    model_path=model_path,\n",
        "    architecture=\"unet\",\n",
        "    encoder_name=\"resnet34\",\n",
        "    num_channels=4,\n",
        "    num_classes=6,\n",
        "    window_size=1024,\n",
        "    overlap=256,\n",
        "    batch_size=4,\n",
        ")"
      ]
    },
    {
      "cell_type": "markdown",
      "metadata": {
        "id": "3kVQV-zATLHZ"
      },
      "source": [
        "## Vectorize the results"
      ]
    },
    {
      "cell_type": "code",
      "execution_count": null,
      "metadata": {
        "id": "E0XK8IVpTLHZ"
      },
      "outputs": [],
      "source": [
        "output_path = masks_path.replace(\".tif\", \"_mask.geojson\")\n",
        "gdf = geoai.raster_to_vector(\n",
        "    masks_path, output_path, min_area=300, simplify_tolerance=1\n",
        ")"
      ]
    },
    {
      "cell_type": "code",
      "execution_count": null,
      "metadata": {
        "id": "Hb-cpzeDTLHa"
      },
      "outputs": [],
      "source": [
        "geoai.view_vector_interactive(output_path, tiles=test_raster_path)"
      ]
    },
    {
      "cell_type": "markdown",
      "metadata": {
        "id": "teONxBkPTLHa"
      },
      "source": [
        "## Download more images"
      ]
    },
    {
      "cell_type": "code",
      "execution_count": null,
      "metadata": {
        "id": "enozTtLyTLHa"
      },
      "outputs": [],
      "source": [
        "items = geoai.pc_stac_search(\n",
        "    collection=\"naip\",\n",
        "    bbox=bbox,\n",
        ")\n",
        "items"
      ]
    },
    {
      "cell_type": "code",
      "execution_count": null,
      "metadata": {
        "id": "0HPT31aVTLHa"
      },
      "outputs": [],
      "source": [
        "images = geoai.pc_stac_download(items, output_dir=\"naip\", assets=[\"image\"])\n",
        "images"
      ]
    },
    {
      "cell_type": "markdown",
      "metadata": {
        "id": "_qgXlm-JTLHa"
      },
      "source": [
        "## Run inference on multiple images"
      ]
    },
    {
      "cell_type": "code",
      "execution_count": null,
      "metadata": {
        "id": "Rjtrp1E3TLHb"
      },
      "outputs": [],
      "source": [
        "geoai.semantic_segmentation_batch(\n",
        "    input_dir=\"naip\",\n",
        "    output_dir=\"prediction\",\n",
        "    model_path=model_path,\n",
        "    architecture=\"unet\",\n",
        "    encoder_name=\"resnet34\",\n",
        "    num_channels=4,\n",
        "    num_classes=6,\n",
        "    window_size=1024,\n",
        "    overlap=256,\n",
        "    batch_size=4,\n",
        ")"
      ]
    }
  ],
  "metadata": {
    "kernelspec": {
      "display_name": "Python 3",
      "name": "python3"
    },
    "language_info": {
      "codemirror_mode": {
        "name": "ipython",
        "version": 3
      },
      "file_extension": ".py",
      "mimetype": "text/x-python",
      "name": "python",
      "nbconvert_exporter": "python",
      "pygments_lexer": "ipython3",
      "version": "3.12.2"
    },
    "colab": {
      "provenance": [],
      "gpuType": "T4"
    },
    "accelerator": "GPU"
  },
  "nbformat": 4,
  "nbformat_minor": 0
}